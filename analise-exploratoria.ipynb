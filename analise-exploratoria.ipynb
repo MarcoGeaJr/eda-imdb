{
 "cells": [
  {
   "cell_type": "code",
   "execution_count": null,
   "metadata": {},
   "outputs": [],
   "source": [
    "%pip install -q imdb-sqlite\n",
    "%pip install -q pycountry"
   ]
  },
  {
   "cell_type": "code",
   "execution_count": null,
   "metadata": {},
   "outputs": [],
   "source": [
    "import pandas as pd\n",
    "import sqlite3"
   ]
  },
  {
   "cell_type": "code",
   "execution_count": null,
   "metadata": {},
   "outputs": [],
   "source": [
    "%%time\n",
    "!imdb-sqlite"
   ]
  },
  {
   "cell_type": "code",
   "execution_count": null,
   "metadata": {},
   "outputs": [],
   "source": [
    "conn = sqlite3.connect(\"imdb.db\")\n",
    "\n",
    "tables = pd.read_sql_query(\"SELECT name as 'table_name' FROM sqlite_master WHERE type='table'\", conn)\n",
    "\n",
    "#conn.close()\n",
    "\n",
    "tables = tables[\"table_name\"].values.tolist()\n",
    "\n",
    "for table in tables:\n",
    "    sql = f\"PRAGMA TABLE_INFO({table})\"\n",
    "    result = pd.read_sql_query(sql, conn)\n",
    "    print(\"Table Schema:\", table)\n",
    "    display(result)\n",
    "    print('-'*100)\n",
    "\n",
    "conn.close()"
   ]
  }
 ],
 "metadata": {
  "interpreter": {
   "hash": "01739e7b0cec3c1795ce31ada6688ea18271478b165e1449b633c435f4e7eef5"
  },
  "kernelspec": {
   "display_name": "Python 3.10.0 64-bit",
   "language": "python",
   "name": "python3"
  },
  "language_info": {
   "codemirror_mode": {
    "name": "ipython",
    "version": 3
   },
   "file_extension": ".py",
   "mimetype": "text/x-python",
   "name": "python",
   "nbconvert_exporter": "python",
   "pygments_lexer": "ipython3",
   "version": "3.9.7"
  },
  "orig_nbformat": 4
 },
 "nbformat": 4,
 "nbformat_minor": 2
}
