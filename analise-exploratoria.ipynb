{
 "cells": [
  {
   "cell_type": "markdown",
   "metadata": {},
   "source": [
    "# Analysis prepare\n",
    "\n",
    "#### Run in the order below"
   ]
  },
  {
   "cell_type": "code",
   "execution_count": null,
   "metadata": {},
   "outputs": [],
   "source": [
    "# Package for download e create IMDB database\n",
    "%pip install -q imdb-sqlite"
   ]
  },
  {
   "cell_type": "code",
   "execution_count": null,
   "metadata": {},
   "outputs": [],
   "source": [
    "# Download e create the database with IMDB data\n",
    "%%time\n",
    "!imdb-sqlite"
   ]
  },
  {
   "cell_type": "markdown",
   "metadata": {},
   "source": [
    "### Exploring the database tables for analysis"
   ]
  },
  {
   "cell_type": "code",
   "execution_count": null,
   "metadata": {},
   "outputs": [],
   "source": [
    "import pandas as pd\n",
    "import sqlite3\n",
    "\n",
    "# Connect on database\n",
    "conn = sqlite3.connect(\"imdb.db\")\n",
    "\n",
    "# Getting tables name from master in database\n",
    "tables = pd.read_sql_query(\"SELECT name as 'table_name' FROM sqlite_master WHERE type='table'\", conn)\n",
    "\n",
    "# Casting a DataSerie in a List\n",
    "tables = tables[\"table_name\"].values.tolist()\n",
    "\n",
    "# Iterating the list of table and showing the tables schemas\n",
    "for table in tables:\n",
    "    sql = f\"PRAGMA TABLE_INFO({table})\"\n",
    "    result = pd.read_sql_query(sql, conn)\n",
    "    print(\"Table Schema:\", table)\n",
    "    display(result)\n",
    "    print('-'*100)\n",
    "\n",
    "# Closing the connection with database\n",
    "conn.close()"
   ]
  }
 ],
 "metadata": {
  "interpreter": {
   "hash": "01739e7b0cec3c1795ce31ada6688ea18271478b165e1449b633c435f4e7eef5"
  },
  "kernelspec": {
   "display_name": "Python 3.10.0 64-bit",
   "language": "python",
   "name": "python3"
  },
  "language_info": {
   "codemirror_mode": {
    "name": "ipython",
    "version": 3
   },
   "file_extension": ".py",
   "mimetype": "text/x-python",
   "name": "python",
   "nbconvert_exporter": "python",
   "pygments_lexer": "ipython3",
   "version": "3.9.7"
  },
  "orig_nbformat": 4
 },
 "nbformat": 4,
 "nbformat_minor": 2
}
