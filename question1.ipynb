{
 "cells": [
  {
   "cell_type": "markdown",
   "metadata": {},
   "source": [
    "# Business Case N° 1\n",
    "\n",
    "## What are the most common movie categories on IMDB?"
   ]
  },
  {
   "cell_type": "markdown",
   "metadata": {},
   "source": [
    "#### Required imports"
   ]
  },
  {
   "cell_type": "code",
   "execution_count": 1,
   "metadata": {},
   "outputs": [],
   "source": [
    "import base\n",
    "from base import db, getAnswer\n",
    "import re\n",
    "import time\n",
    "import sqlite3\n",
    "import pycountry\n",
    "import numpy as np\n",
    "import pandas as pd\n",
    "import matplotlib.pyplot as plt\n",
    "import seaborn as sns\n",
    "from matplotlib import cm\n",
    "from sklearn.feature_extraction.text import CountVectorizer\n",
    "import warnings\n",
    "warnings.filterwarnings(\"ignore\")\n",
    "sns.set_theme(style=\"whitegrid\")"
   ]
  },
  {
   "cell_type": "markdown",
   "metadata": {},
   "source": [
    "#### Fetch and Wrangling data"
   ]
  },
  {
   "cell_type": "code",
   "execution_count": null,
   "metadata": {},
   "outputs": [],
   "source": [
    "# Select to fetch data\n",
    "sql = \"SELECT type, COUNT(*) as count FROM titles GROUP BY type\"\n",
    "\n",
    "# Categories data from titles table\n",
    "answer = getAnswer(db, sql)\n",
    "\n",
    "# Percentage of each movie category\n",
    "answer['percent'] = round(answer['count'] / answer['count'].sum() * 100, 2)"
   ]
  },
  {
   "cell_type": "code",
   "execution_count": null,
   "metadata": {},
   "outputs": [],
   "source": [
    "# Filtering top 3 categories\n",
    "answer = answer[answer['percent'] > 5]\n",
    "\n",
    "# Merging categories less than 5% into an 'others' category\n",
    "others = {}\n",
    "\n",
    "others['count'] = answer[answer['percent'] < 5]['count'].sum()\n",
    "\n",
    "others['percent'] = answer[answer['percent'] < 5]['percent'].sum()\n",
    "\n",
    "others['type'] = 'others'"
   ]
  },
  {
   "cell_type": "code",
   "execution_count": null,
   "metadata": {},
   "outputs": [],
   "source": [
    "# Append the 'others' category in the top 3 categories dataset\n",
    "answer = answer.append(others, ignore_index=True)\n",
    "\n",
    "# Sort data by 'count' value\n",
    "answer = answer.sort_values(by='count', ascending=False)"
   ]
  },
  {
   "cell_type": "markdown",
   "metadata": {},
   "source": [
    "#### Result Plot"
   ]
  },
  {
   "cell_type": "code",
   "execution_count": null,
   "metadata": {},
   "outputs": [],
   "source": [
    "# Create data labels from dataset columns and values\n",
    "labels = [str(answer['type'][i])+': '+str(answer['percent'][i])+'%' for i in answer.index]\n",
    "\n",
    "# Color map by matplotlib\n",
    "cs = cm.Set3(np.arange(100))\n",
    "\n",
    "# Create a Pie Plot\n",
    "f = plt.figure()\n",
    "plt.pie(answer['count'], labeldistance=1, radius=3, colors=cs, wedgeprops=dict(width=.8))\n",
    "plt.legend(labels=labels, loc='center', prop={'size':12})\n",
    "plt.title(\"Distribuição de Títulos\", loc='Center', fontdict={'fontsize':20, 'fontweight':20})\n",
    "plt.show()"
   ]
  }
 ],
 "metadata": {
  "interpreter": {
   "hash": "b3ba2566441a7c06988d0923437866b63cedc61552a5af99d1f4fb67d367b25f"
  },
  "kernelspec": {
   "display_name": "Python 3.9.7 64-bit ('base': conda)",
   "language": "python",
   "name": "python3"
  },
  "language_info": {
   "codemirror_mode": {
    "name": "ipython",
    "version": 3
   },
   "file_extension": ".py",
   "mimetype": "text/x-python",
   "name": "python",
   "nbconvert_exporter": "python",
   "pygments_lexer": "ipython3",
   "version": "3.9.7"
  },
  "orig_nbformat": 4
 },
 "nbformat": 4,
 "nbformat_minor": 2
}
