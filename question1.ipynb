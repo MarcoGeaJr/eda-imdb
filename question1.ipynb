{
 "cells": [
  {
   "cell_type": "markdown",
   "metadata": {},
   "source": [
    "# Pergunta de negócio N° 1\n",
    "\n",
    "## Quais a categorias de filmes mais comuns no IMDB"
   ]
  },
  {
   "cell_type": "markdown",
   "metadata": {},
   "source": [
    "#### Imports obrigatórios"
   ]
  },
  {
   "cell_type": "code",
   "execution_count": null,
   "metadata": {},
   "outputs": [],
   "source": [
    "import re\n",
    "import time\n",
    "import sqlite3\n",
    "import pycountry\n",
    "import numpy as np\n",
    "import pandas as pd\n",
    "import matplotlib.pyplot as plt\n",
    "import seaborn as sns\n",
    "from matplotlib import cm\n",
    "from sklearn.feature_extraction.text import CountVectorizer\n",
    "import warnings\n",
    "warnings.filterwarnings(\"ignore\")\n",
    "sns.set_theme(style=\"whitegrid\")"
   ]
  },
  {
   "cell_type": "markdown",
   "metadata": {},
   "source": [
    "#### Coletando e Tratando as informações"
   ]
  },
  {
   "cell_type": "code",
   "execution_count": null,
   "metadata": {},
   "outputs": [],
   "source": [
    "import base\n",
    "from base import db, getAnswer\n",
    "\n",
    "# Consulta para buscar os dados da resposta\n",
    "sql = \"SELECT type, COUNT(*) as count FROM titles GROUP BY type\"\n",
    "\n",
    "# Lista de categorias listadas em ordem de maior quantidade\n",
    "answer = getAnswer(db, sql)\n",
    "\n",
    "# Calculo do percentual de cada categoria\n",
    "answer['percent'] = round(answer['count'] / answer['count'].sum() * 100, 2)"
   ]
  },
  {
   "cell_type": "code",
   "execution_count": null,
   "metadata": {},
   "outputs": [],
   "source": [
    "# Filtrando as categorias com menos de 5% de percentual\n",
    "others = {}\n",
    "\n",
    "others['count'] = answer[answer['percent'] < 5]['count'].sum()\n",
    "\n",
    "others['percent'] = answer[answer['percent'] < 5]['percent'].sum()\n",
    "\n",
    "others['type'] = 'others'\n",
    "\n",
    "# Filtrando as categorias com mais de 5% de percentual (top 3 categorias)\n",
    "answer = answer[answer['percent'] > 5]"
   ]
  },
  {
   "cell_type": "code",
   "execution_count": null,
   "metadata": {},
   "outputs": [],
   "source": [
    "# Adicionando a categoria criada 'outros' no dataset com as top 3 categorias\n",
    "answer = answer.append(others, ignore_index=True)\n",
    "\n",
    "# Ordenando os dados por ordem de maior quantidade\n",
    "answer = answer.sort_values(by='count', ascending=False)"
   ]
  },
  {
   "cell_type": "markdown",
   "metadata": {},
   "source": [
    "#### Plotando os resultados"
   ]
  },
  {
   "cell_type": "code",
   "execution_count": null,
   "metadata": {},
   "outputs": [],
   "source": [
    "# Plotting\n",
    "\n",
    "# Criando os Labels\n",
    "labels = [str(answer['type'][i])+': '+str(answer['percent'][i])+'%' for i in answer.index]\n",
    "\n",
    "# Mapa de cores\n",
    "cs = cm.Set3(np.arange(100))\n",
    "\n",
    "# Criando a figura\n",
    "f = plt.figure()\n",
    "\n",
    "# Pie Plot\n",
    "plt.pie(answer['count'], labeldistance=1, radius=3, colors=cs, wedgeprops=dict(width=.8))\n",
    "plt.legend(labels=labels, loc='center', prop={'size':12})\n",
    "plt.title(\"Distribuição de Títulos\", loc='Center', fontdict={'fontsize':20, 'fontweight':20})\n",
    "plt.show()"
   ]
  }
 ],
 "metadata": {
  "interpreter": {
   "hash": "b3ba2566441a7c06988d0923437866b63cedc61552a5af99d1f4fb67d367b25f"
  },
  "kernelspec": {
   "display_name": "Python 3.9.7 64-bit ('base': conda)",
   "language": "python",
   "name": "python3"
  },
  "language_info": {
   "codemirror_mode": {
    "name": "ipython",
    "version": 3
   },
   "file_extension": ".py",
   "mimetype": "text/x-python",
   "name": "python",
   "nbconvert_exporter": "python",
   "pygments_lexer": "ipython3",
   "version": "3.9.7"
  },
  "orig_nbformat": 4
 },
 "nbformat": 4,
 "nbformat_minor": 2
}
